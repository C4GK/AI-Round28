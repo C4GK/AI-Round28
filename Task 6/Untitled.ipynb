{
 "cells": [
  {
   "cell_type": "code",
   "execution_count": 12,
   "id": "30326dcc",
   "metadata": {
    "ExecuteTime": {
     "end_time": "2023-08-24T13:55:54.772464Z",
     "start_time": "2023-08-24T13:55:54.768039Z"
    }
   },
   "outputs": [
    {
     "name": "stdout",
     "output_type": "stream",
     "text": [
      "Names: ['omar ashraf', 'ahmed ali', 'tasnem']\n",
      "Numbers: ['01234567896', '0325164789', '0124565']\n",
      "Emails: ['omar.as@gmail.com', 'ahmed77@gmail.com', 'tas12nem@gmail.com']\n"
     ]
    }
   ],
   "source": [
    "import re\n",
    "\n",
    "names = []\n",
    "numbers = []\n",
    "emails = []\n",
    "\n",
    "file_path = 'Task.txt'  \n",
    "with open(file_path, 'r') as file:\n",
    "    for line in file:\n",
    "        \n",
    "        # the regular expression\n",
    "        match = re.match(r'^(.*?)\\s+(\\d+)\\s+([a-zA-Z0-9._%+-]+@[a-zA-Z0-9.-]+\\.[a-zA-Z]{2,4})$', line)\n",
    "        if match:\n",
    "            name = match.group(1)\n",
    "            number = match.group(2)\n",
    "            email = match.group(3)\n",
    "            names.append(name)\n",
    "            numbers.append(number)\n",
    "            emails.append(email)\n",
    "\n",
    "print(\"Names:\", names)\n",
    "print(\"Numbers:\", numbers)\n",
    "print(\"Emails:\", emails)"
   ]
  },
  {
   "cell_type": "code",
   "execution_count": null,
   "id": "641ac60e",
   "metadata": {},
   "outputs": [],
   "source": []
  },
  {
   "cell_type": "code",
   "execution_count": null,
   "id": "2c49678e",
   "metadata": {},
   "outputs": [],
   "source": []
  }
 ],
 "metadata": {
  "kernelspec": {
   "display_name": "Python 3 (ipykernel)",
   "language": "python",
   "name": "python3"
  },
  "language_info": {
   "codemirror_mode": {
    "name": "ipython",
    "version": 3
   },
   "file_extension": ".py",
   "mimetype": "text/x-python",
   "name": "python",
   "nbconvert_exporter": "python",
   "pygments_lexer": "ipython3",
   "version": "3.11.3"
  }
 },
 "nbformat": 4,
 "nbformat_minor": 5
}
