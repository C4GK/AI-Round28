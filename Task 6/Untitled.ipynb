{
 "cells": [
  {
   "cell_type": "code",
   "execution_count": 1,
   "id": "0ea88ead",
   "metadata": {
    "ExecuteTime": {
     "end_time": "2023-08-20T15:42:36.288738Z",
     "start_time": "2023-08-20T15:42:36.279315Z"
    }
   },
   "outputs": [
    {
     "name": "stdout",
     "output_type": "stream",
     "text": [
      "Names: ['omar ashraf', 'ahmed ali ', 'tasnem']\n",
      "Numbers: [' 01234567896', '0325164789 ', ' 0124565 ']\n",
      "Mails: [' omar.as@gmail.com', 'ahmed77@gmail.com', 'tas12nem@gmail.com']\n"
     ]
    }
   ],
   "source": [
    "names = []\n",
    "numbers = []\n",
    "mails = []\n",
    "with open(\"task.txt\", \"r\") as file:\n",
    "    for line in file:\n",
    "        name, number, mail = line.strip().split(',')\n",
    "        names.append(name)\n",
    "        numbers.append(number)\n",
    "        mails.append(mail)\n",
    "print(\"Names:\", names)\n",
    "print(\"Numbers:\", numbers)\n",
    "print(\"Mails:\", mails)"
   ]
  },
  {
   "cell_type": "code",
   "execution_count": null,
   "id": "50e9c2c5",
   "metadata": {},
   "outputs": [],
   "source": []
  },
  {
   "cell_type": "code",
   "execution_count": null,
   "id": "b79fe232",
   "metadata": {},
   "outputs": [],
   "source": []
  }
 ],
 "metadata": {
  "kernelspec": {
   "display_name": "Python 3 (ipykernel)",
   "language": "python",
   "name": "python3"
  },
  "language_info": {
   "codemirror_mode": {
    "name": "ipython",
    "version": 3
   },
   "file_extension": ".py",
   "mimetype": "text/x-python",
   "name": "python",
   "nbconvert_exporter": "python",
   "pygments_lexer": "ipython3",
   "version": "3.11.3"
  }
 },
 "nbformat": 4,
 "nbformat_minor": 5
}
