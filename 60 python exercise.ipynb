{
 "cells": [
  {
   "cell_type": "markdown",
   "id": "759d04ba",
   "metadata": {},
   "source": [
    "**1-Write a Python program to calculate the length of a string using 2 ways**"
   ]
  },
  {
   "cell_type": "code",
   "execution_count": 1,
   "id": "e434c950",
   "metadata": {},
   "outputs": [
    {
     "name": "stdout",
     "output_type": "stream",
     "text": [
      "enter your stringomar\n",
      "length of a string is : 1\n",
      "length of a string is : 2\n",
      "length of a string is : 3\n",
      "length of a string is : 4\n"
     ]
    }
   ],
   "source": [
    "str = input(\"enter your string\")\n",
    "counter = 0\n",
    "for s in str :\n",
    "    counter = counter+1\n",
    "    print(\"length of a string is :\" , counter)"
   ]
  },
  {
   "cell_type": "code",
   "execution_count": 2,
   "id": "7a2dfa32",
   "metadata": {},
   "outputs": [
    {
     "name": "stdout",
     "output_type": "stream",
     "text": [
      "enter your string naif\n",
      "lenth of a string is : 4\n"
     ]
    }
   ],
   "source": [
    "str = input(\"enter your string \")\n",
    "print (\"lenth of a string is :\" ,len(str))"
   ]
  },
  {
   "cell_type": "markdown",
   "id": "d7cc9da7",
   "metadata": {},
   "source": [
    "**2-Write a Python program to get a string made of the first 2 and last 2 characters of a given string. If the string length is less than 2, return the empty string instead (\"##Sample String : 'w3resource'\n",
    "Expected Result : 'w3ce'\n",
    "##Sample String : 'w3'\n",
    "Expected Result : 'w3w3'\n",
    "##Sample String : ' w'\n",
    "Expected Result : Empty String)"
   ]
  },
  {
   "cell_type": "code",
   "execution_count": 19,
   "id": "dafa9dd8",
   "metadata": {},
   "outputs": [
    {
     "name": "stdout",
     "output_type": "stream",
     "text": [
      "input string =omar ashraf\n",
      "new string =omaf\n"
     ]
    }
   ],
   "source": [
    "inputstring = \"omar ashraf\" \n",
    "count = 0 \n",
    "\n",
    "for i in inputstring:\n",
    "    count = count+1\n",
    "newstring = inputstring[0:2] + inputstring [count -2:count]\n",
    "\n",
    "print(\"input string =\" + inputstring)\n",
    "print(\"new string =\" + newstring)"
   ]
  },
  {
   "cell_type": "markdown",
   "id": "1534f956",
   "metadata": {},
   "source": [
    "**3-Write a Python program to add 'ing' at the end of a given string (length should be at least 3). If the given string already ends with 'ing', add 'ly' instead. If the string length of the given string is less than 3, leave it unchanged. (Sample String : 'abc'\n",
    "Expected Result : 'abcing')"
   ]
  },
  {
   "cell_type": "code",
   "execution_count": 1,
   "id": "7ff8cec4",
   "metadata": {},
   "outputs": [
    {
     "ename": "SyntaxError",
     "evalue": "invalid syntax (2072407974.py, line 6)",
     "output_type": "error",
     "traceback": [
      "\u001b[1;36m  Cell \u001b[1;32mIn[1], line 6\u001b[1;36m\u001b[0m\n\u001b[1;33m    else:\u001b[0m\n\u001b[1;37m    ^\u001b[0m\n\u001b[1;31mSyntaxError\u001b[0m\u001b[1;31m:\u001b[0m invalid syntax\n"
     ]
    }
   ],
   "source": [
    "name = input(\"enter a string\")\n",
    "if len(name) <3 :\n",
    "    new_name = name\n",
    "elif name[-3:] == 'ing':\n",
    "    new_name = name + 'ly'\n",
    "    else:\n",
    "        new_name = name + 'ing'\n",
    "        print (new_name)"
   ]
  },
  {
   "cell_type": "markdown",
   "id": "1c0a6627",
   "metadata": {},
   "source": [
    "**4-Write a Python function that takes a list of words and return the longest word and the length of the longest one\n",
    "(Longest word: Exercises\n",
    "Length of the longest word: 9)"
   ]
  },
  {
   "cell_type": "code",
   "execution_count": 7,
   "id": "397341d9",
   "metadata": {},
   "outputs": [
    {
     "name": "stdout",
     "output_type": "stream",
     "text": [
      "enter a few words omar , ashraf\n",
      "6\n"
     ]
    }
   ],
   "source": [
    "my_words = input(\"enter a few words: \")\n",
    "my_list = my_words.split()\n",
    "max_len = 0 \n",
    "for word in my_list:\n",
    "    if len(word) > max_len:\n",
    "        max_len = len(word)\n",
    "        print(max_len)"
   ]
  },
  {
   "cell_type": "markdown",
   "id": "53a03a6a",
   "metadata": {},
   "source": [
    "**5-Write a Python program to change a given string to a newly string where the first and last chars have been exchanged using 2 ways (Sample String:abca  Expected Result:ebce)"
   ]
  },
  {
   "cell_type": "code",
   "execution_count": 9,
   "id": "fd327d2a",
   "metadata": {},
   "outputs": [
    {
     "name": "stdout",
     "output_type": "stream",
     "text": [
      "enter a stringomar\n",
      "rmao\n"
     ]
    }
   ],
   "source": [
    "my_string = input(\"enter a string\")\n",
    "new_string = my_string[-1]+ my_string[1:-1] + my_string [0]\n",
    "print (new_string)"
   ]
  },
  {
   "cell_type": "code",
   "execution_count": null,
   "id": "285788b4",
   "metadata": {},
   "outputs": [],
   "source": []
  },
  {
   "cell_type": "markdown",
   "id": "25f89808",
   "metadata": {},
   "source": [
    "**6-Write a Python program to remove characters that have odd index values in a given string (Sample String:abca Expected Result:ac)"
   ]
  },
  {
   "cell_type": "code",
   "execution_count": 18,
   "id": "05959bd7",
   "metadata": {},
   "outputs": [
    {
     "name": "stdout",
     "output_type": "stream",
     "text": [
      "enter a string omar\n",
      "oa\n"
     ]
    }
   ],
   "source": [
    "my_string = input(\"enter a string \")\n",
    "new_string = ''\n",
    "for i in range(len(my_string)):\n",
    "    if i%2 == 0:\n",
    "        new_string += my_string[i]\n",
    "print(new_string)"
   ]
  },
  {
   "cell_type": "markdown",
   "id": "eb16e898",
   "metadata": {},
   "source": [
    "**7-Write a Python program to count the occurrences of each word in a given sentence (Sample String:amr and ahmed are frindes but amr is the tallest Expected Result:2)"
   ]
  },
  {
   "cell_type": "code",
   "execution_count": 10,
   "id": "01ce6cf5",
   "metadata": {},
   "outputs": [
    {
     "name": "stdout",
     "output_type": "stream",
     "text": [
      "enter a sentenceomar\n",
      "{'omar': 1}\n"
     ]
    }
   ],
   "source": [
    "name = input(\"enter a sentence\")\n",
    "my_list = name.split()\n",
    "my_set = set(my_list)\n",
    "my_dict = {}\n",
    "for word in my_set:\n",
    "    my_dict[word] = name.count(word)\n",
    "print(my_dict)"
   ]
  },
  {
   "cell_type": "markdown",
   "id": "4e8125f1",
   "metadata": {},
   "source": [
    "**8-Write a Python script that takes input from the user and displays that input back in upper and lower cases"
   ]
  },
  {
   "cell_type": "code",
   "execution_count": 2,
   "id": "66c8f778",
   "metadata": {},
   "outputs": [
    {
     "name": "stdout",
     "output_type": "stream",
     "text": [
      "enter your input :Omar\n",
      "OMAR\n",
      "omar\n"
     ]
    }
   ],
   "source": [
    "name = input(\"enter your input :\")\n",
    "print(name.upper())\n",
    "print(name.lower())"
   ]
  },
  {
   "cell_type": "markdown",
   "id": "fcd68aa1",
   "metadata": {},
   "source": [
    "**9-Write a Python function to reverse a string if its length is a multiple of 4"
   ]
  },
  {
   "cell_type": "code",
   "execution_count": 3,
   "id": "0671a931",
   "metadata": {},
   "outputs": [
    {
     "name": "stdout",
     "output_type": "stream",
     "text": [
      "enter a string omar\n",
      "ramo\n"
     ]
    }
   ],
   "source": [
    "def reverse_string(my_string):\n",
    "    if len(my_string)%4 == 0:\n",
    "        return ''.join(reversed(my_string))\n",
    "    else:\n",
    "        return my_string\n",
    "\n",
    "my_string = input(\"enter a string \")\n",
    "print(reverse_string(my_string))"
   ]
  },
  {
   "cell_type": "markdown",
   "id": "b577c68d",
   "metadata": {},
   "source": [
    "**10- Write a Python program to remove a newline in Python"
   ]
  },
  {
   "cell_type": "code",
   "execution_count": 9,
   "id": "e0c6525a",
   "metadata": {},
   "outputs": [
    {
     "name": "stdout",
     "output_type": "stream",
     "text": [
      "Original string: \n",
      " omar \n",
      " ashraf \n",
      " hassan \n",
      "\n",
      "After deleting the new line:  omar  ashraf  hassan \n"
     ]
    }
   ],
   "source": [
    "def func(value):\n",
    "    return ''.join(value.splitlines())\n",
    "\n",
    "\n",
    "mystring = \"\\n omar \\n ashraf \\n hassan \\n\"\n",
    "print(\"Original string:\", mystring)\n",
    "print(\"After deleting the new line:\", func(mystring))\n"
   ]
  },
  {
   "cell_type": "markdown",
   "id": "80db5ae0",
   "metadata": {},
   "source": [
    "**11-Write a Python program to check whether a string starts with specified characters"
   ]
  },
  {
   "cell_type": "code",
   "execution_count": 11,
   "id": "0cc4e03e",
   "metadata": {},
   "outputs": [
    {
     "name": "stdout",
     "output_type": "stream",
     "text": [
      "enter a string omar\n",
      "enter a character m\n",
      "does the string 'omar' starts with the character 'm'?\n",
      "False\n"
     ]
    }
   ],
   "source": [
    "def starts_with(my_string, char):\n",
    "    if my_string.startswith(char):\n",
    "        return True\n",
    "    else:\n",
    "        return False\n",
    "\n",
    "my_string = input(\"enter a string \")\n",
    "my_char = input(\"enter a character \")\n",
    "\n",
    "print(\"does the string '%s' starts with the character '%s'?\" % (my_string, my_char))\n",
    "print(starts_with(my_string, my_char))\n"
   ]
  },
  {
   "cell_type": "markdown",
   "id": "593a68db",
   "metadata": {},
   "source": [
    "**12- Write a Python program to add prefix text to all of the lines in a string"
   ]
  },
  {
   "cell_type": "code",
   "execution_count": 8,
   "id": "d2e46ada",
   "metadata": {},
   "outputs": [
    {
     "name": "stdout",
     "output_type": "stream",
     "text": [
      "The original list : ['a', 'b', 'c', 'd']\n",
      "List after prefix addition : ['gfga', 'gfgb', 'gfgc', 'gfgd']\n"
     ]
    }
   ],
   "source": [
    "from functools import reduce\n",
    "\n",
    "test_list = ['a', 'b', 'c', 'd']\n",
    "prefix, suffix = 'gfg', 'gfg'\n",
    "pre_res = reduce(lambda res, item: res + [prefix + item], test_list, [])\n",
    "\n",
    "print(\"The original list :\", test_list)\n",
    "print(\"List after prefix addition :\", pre_res)\n",
    "\n"
   ]
  },
  {
   "cell_type": "markdown",
   "id": "86fa1543",
   "metadata": {},
   "source": [
    "**13-Write a Python program to print the following numbers up to 2 decimal places"
   ]
  },
  {
   "cell_type": "code",
   "execution_count": 12,
   "id": "cd4a9d89",
   "metadata": {},
   "outputs": [
    {
     "name": "stdout",
     "output_type": "stream",
     "text": [
      "enter a float number 6.25659\n",
      "this is a float number 6.26\n"
     ]
    }
   ],
   "source": [
    "my_float = float(input(\"enter a float number \"))\n",
    "\n",
    "print(\"this is a float number %.2f\" % my_float)"
   ]
  },
  {
   "cell_type": "markdown",
   "id": "452c0ab0",
   "metadata": {},
   "source": [
    "**14-Write a Python program to print the following numbers up to 2 decimal places with a sign"
   ]
  },
  {
   "cell_type": "code",
   "execution_count": 13,
   "id": "73e82479",
   "metadata": {},
   "outputs": [
    {
     "name": "stdout",
     "output_type": "stream",
     "text": [
      "enter a float number 5.6544\n",
      "this is a float number +5.65\n"
     ]
    }
   ],
   "source": [
    "my_float = float(input(\"enter a float number \"))\n",
    "\n",
    "print(\"this is a float number %+.2f\" % my_float)\n"
   ]
  },
  {
   "cell_type": "markdown",
   "id": "32b1811a",
   "metadata": {},
   "source": [
    "**15-Write a Python program to display a number with a comma separator"
   ]
  },
  {
   "cell_type": "code",
   "execution_count": 1,
   "id": "f30fc0b6",
   "metadata": {},
   "outputs": [
    {
     "name": "stdout",
     "output_type": "stream",
     "text": [
      "enter a number 5\n",
      "5\n"
     ]
    }
   ],
   "source": [
    "my_int = int(input(\"enter a number \"))\n",
    "\n",
    "print('{:,}'.format(my_int))"
   ]
  },
  {
   "cell_type": "markdown",
   "id": "0477f487",
   "metadata": {},
   "source": [
    "**16-Write a Python program to reverse a string using 2 ways"
   ]
  },
  {
   "cell_type": "code",
   "execution_count": 2,
   "id": "aa8beec8",
   "metadata": {},
   "outputs": [
    {
     "name": "stdout",
     "output_type": "stream",
     "text": [
      "enter a string omar\n",
      "ramo\n"
     ]
    }
   ],
   "source": [
    "my_string = input(\"enter a string \")\n",
    "\n",
    "print(''.join(reversed(my_string)))"
   ]
  },
  {
   "cell_type": "markdown",
   "id": "5afc3166",
   "metadata": {},
   "source": [
    " **17-Write a Python program to count repeated characters in a string (hint:use dictionary)"
   ]
  },
  {
   "cell_type": "code",
   "execution_count": 3,
   "id": "515a469c",
   "metadata": {},
   "outputs": [
    {
     "name": "stdout",
     "output_type": "stream",
     "text": [
      "enter a string omar\n",
      "a 1\n",
      "o 1\n",
      "r 1\n",
      "m 1\n",
      "**********\n"
     ]
    }
   ],
   "source": [
    "my_string = input(\"enter a string \")\n",
    "my_list = []\n",
    "for letter in my_string:\n",
    "    my_list.append((letter, my_string.count(letter)))\n",
    "my_unique_list = list(set(my_list))\n",
    "for i in my_unique_list:\n",
    "    print(i[0], i[1])\n",
    "\n",
    "print('*' * 10)\n"
   ]
  },
  {
   "cell_type": "markdown",
   "id": "ae14e4e5",
   "metadata": {},
   "source": [
    "**18-Write a Python program to find the first non-repeating character in a given string"
   ]
  },
  {
   "cell_type": "code",
   "execution_count": 3,
   "id": "d73778e5",
   "metadata": {},
   "outputs": [
    {
     "name": "stdout",
     "output_type": "stream",
     "text": [
      "enter a string : omar ashraf hasan \n",
      "First non-repeating character =  o\n"
     ]
    }
   ],
   "source": [
    "myStr =input (\"enter a string : \")\n",
    "\n",
    "\n",
    "while myStr != \"\":\n",
    "    slen0 = len(myStr)\n",
    "    ch = myStr[0]\n",
    "    myStr = myStr.replace(ch, \"\")\n",
    "    slen1 = len(myStr)\n",
    "    if slen1 == slen0-1:\n",
    "        print (\"First non-repeating character = \",ch)\n",
    "        break;\n",
    "    else:\n",
    "        print (\"No Unique Character Found!\")"
   ]
  },
  {
   "cell_type": "markdown",
   "id": "3adf5669",
   "metadata": {},
   "source": [
    "**19-Write a Python program to remove spaces from a given string"
   ]
  },
  {
   "cell_type": "code",
   "execution_count": 4,
   "id": "b4f22602",
   "metadata": {},
   "outputs": [
    {
     "name": "stdout",
     "output_type": "stream",
     "text": [
      "enter a string : omar ashraf hassan\n",
      "After removing spaces string is : omarashrafhassan\n"
     ]
    }
   ],
   "source": [
    "String = input(\"enter a string : \")\n",
    "\n",
    "String = \"\".join(String.split()) \n",
    "\n",
    "print(\"After removing spaces string is :\",String)"
   ]
  },
  {
   "cell_type": "markdown",
   "id": "734de60c",
   "metadata": {},
   "source": [
    "**20-Write a Python program to count the number of non-empty substrings of a given string"
   ]
  },
  {
   "cell_type": "code",
   "execution_count": 6,
   "id": "ef3f2274",
   "metadata": {},
   "outputs": [
    {
     "name": "stdout",
     "output_type": "stream",
     "text": [
      "Enter a string: omar ashraf\n",
      "Number of non-empty substrings: 66\n"
     ]
    }
   ],
   "source": [
    "def count_substrings(s):\n",
    "    n = len(s)\n",
    "    count = 0\n",
    "    for i in range(n):\n",
    "        for j in range(i + 1, n + 1):\n",
    "            count += 1\n",
    "    return count\n",
    "if __name__ == \"__main__\":\n",
    "    input_string = input(\"Enter a string: \")\n",
    "    result = count_substrings(input_string)\n",
    "    print(\"Number of non-empty substrings:\", result)"
   ]
  },
  {
   "cell_type": "markdown",
   "id": "509998e2",
   "metadata": {},
   "source": [
    "**21-write a Python program to swap first and last element of any list."
   ]
  },
  {
   "cell_type": "code",
   "execution_count": 7,
   "id": "68692d7f",
   "metadata": {},
   "outputs": [
    {
     "name": "stdout",
     "output_type": "stream",
     "text": [
      "[5, 2, 3, 4, 1]\n"
     ]
    }
   ],
   "source": [
    "def swap_first_and_last(lst):\n",
    "    if len(lst) >= 2:\n",
    "        lst[0], lst[-1] = lst[-1], lst[0]\n",
    "sample_list = [1, 2, 3, 4, 5]\n",
    "swap_first_and_last(sample_list)\n",
    "print(sample_list)"
   ]
  },
  {
   "cell_type": "markdown",
   "id": "959e0837",
   "metadata": {},
   "source": [
    "**22-Given a list in Python and provided the positions of the elements, write a program to swap the two elements in the list. (Input : List = [23, 65, 19, 90], pos1 = 1, pos2 = 3\n",
    "Output : [19, 65, 23, 90])"
   ]
  },
  {
   "cell_type": "code",
   "execution_count": 9,
   "id": "225d8c6d",
   "metadata": {},
   "outputs": [
    {
     "name": "stdout",
     "output_type": "stream",
     "text": [
      "[1, 4, 3, 2, 5]\n"
     ]
    }
   ],
   "source": [
    "def swap_elements(lst, pos1, pos2):\n",
    "    lst[pos1], lst[pos2] = lst[pos2], lst[pos1]\n",
    "sample_list = [1, 2, 3, 4, 5]\n",
    "pos1 = 1\n",
    "pos2 = 3\n",
    "swap_elements(sample_list, pos1, pos2)\n",
    "print(sample_list)"
   ]
  },
  {
   "cell_type": "markdown",
   "id": "66fc6682",
   "metadata": {},
   "source": [
    "**23- search for the all ways to know the length of the list"
   ]
  },
  {
   "cell_type": "code",
   "execution_count": 12,
   "id": "63ff8b43",
   "metadata": {},
   "outputs": [
    {
     "name": "stdout",
     "output_type": "stream",
     "text": [
      "Length of the list: 5\n",
      "Length of the list: 5\n",
      "Length of the list: 5\n"
     ]
    }
   ],
   "source": [
    "my_list = [1, 2, 3, 4, 5]\n",
    "length = len(my_list)\n",
    "print(\"Length of the list:\", length)\n",
    "\n",
    "my_list = [1, 2, 3, 4, 5]\n",
    "length = 0\n",
    "for _ in my_list:\n",
    "    length += 1\n",
    "print(\"Length of the list:\", length)\n",
    "\n",
    "\n",
    "my_list = [1, 2, 3, 4, 5]\n",
    "length = len([x for x in my_list])\n",
    "print(\"Length of the list:\", length)\n"
   ]
  },
  {
   "cell_type": "markdown",
   "id": "d0329a16",
   "metadata": {},
   "source": [
    "**24-write a Python code to find the Maximum number of list of numbers"
   ]
  },
  {
   "cell_type": "code",
   "execution_count": 13,
   "id": "1a89b9d3",
   "metadata": {},
   "outputs": [
    {
     "name": "stdout",
     "output_type": "stream",
     "text": [
      "Enter numbers separated by spaces: 5 8  65 656 \n",
      "Maximum number: 656.0\n"
     ]
    }
   ],
   "source": [
    "def find_maximum(numbers):\n",
    "    return max(numbers)\n",
    "if __name__ == \"__main__\":\n",
    "    input_list = input(\"Enter numbers separated by spaces: \").split()\n",
    "    try:\n",
    "        numbers = [float(num) for num in input_list]\n",
    "        maximum = find_maximum(numbers)\n",
    "        print(\"Maximum number:\", maximum)\n",
    "    except ValueError:\n",
    "        print(\"Invalid input. Please enter a list of valid numbers.\")"
   ]
  },
  {
   "cell_type": "markdown",
   "id": "38bbdb55",
   "metadata": {},
   "source": [
    "**25-write a Python code to find the Minimum number of list of numbers."
   ]
  },
  {
   "cell_type": "code",
   "execution_count": 14,
   "id": "84510bc3",
   "metadata": {},
   "outputs": [
    {
     "name": "stdout",
     "output_type": "stream",
     "text": [
      "Enter numbers separated by spaces: 5  3 4654 63 3 9 1 8\n",
      "Maximum number: 1.0\n"
     ]
    }
   ],
   "source": [
    "def find_min(numbers):\n",
    "    return min(numbers)\n",
    "if __name__ == \"__main__\":\n",
    "    input_list = input(\"Enter numbers separated by spaces: \").split()\n",
    "    try:\n",
    "        numbers = [float(num) for num in input_list]\n",
    "        minimum = find_min(numbers)\n",
    "        print(\"Maximum number:\", minimum)\n",
    "    except ValueError:\n",
    "        print(\"Invalid input. Please enter a list of valid numbers.\")"
   ]
  },
  {
   "cell_type": "markdown",
   "id": "01c84371",
   "metadata": {},
   "source": [
    "**26-search for if an elem is existing in list"
   ]
  },
  {
   "cell_type": "code",
   "execution_count": 17,
   "id": "b96be000",
   "metadata": {},
   "outputs": [
    {
     "name": "stdout",
     "output_type": "stream",
     "text": [
      "Enter elements of the list separated by spaces: 1 2  3 4 5 6 \n",
      "Enter the element you want to check: 3\n",
      "The element '3' is present in the list.\n"
     ]
    }
   ],
   "source": [
    "if __name__ == \"__main__\":\n",
    "    input_list = input(\"Enter elements of the list separated by spaces: \").split()\n",
    "    element_to_find = input(\"Enter the element you want to check: \")\n",
    "    \n",
    "    if element_to_find in input_list:\n",
    "        print(f\"The element '{element_to_find}' is present in the list.\")\n",
    "    else:\n",
    "        print(f\"The element '{element_to_find}' is not present in the list.\")\n"
   ]
  },
  {
   "cell_type": "markdown",
   "id": "6c96b340",
   "metadata": {},
   "source": [
    "**27- clear python list using different ways"
   ]
  },
  {
   "cell_type": "code",
   "execution_count": 18,
   "id": "aa9151fd",
   "metadata": {},
   "outputs": [
    {
     "name": "stdout",
     "output_type": "stream",
     "text": [
      "[]\n",
      "[]\n",
      "[]\n"
     ]
    }
   ],
   "source": [
    "my_list = [1, 2, 3, 4, 5]\n",
    "my_list.clear()\n",
    "print(my_list)   \n",
    "\n",
    "\n",
    "my_list = [1, 2, 3, 4, 5]\n",
    "my_list = []\n",
    "print(my_list)  \n",
    "  \n",
    "\n",
    "my_list = [1, 2, 3, 4, 5]\n",
    "my_list[:] = []\n",
    "print(my_list)  \n"
   ]
  },
  {
   "cell_type": "markdown",
   "id": "6d28b0bf",
   "metadata": {},
   "source": [
    "**28-remove duplicated elements from a list"
   ]
  },
  {
   "cell_type": "code",
   "execution_count": 19,
   "id": "5032049c",
   "metadata": {},
   "outputs": [
    {
     "name": "stdout",
     "output_type": "stream",
     "text": [
      "[1, 2, 3, 4, 5]\n"
     ]
    }
   ],
   "source": [
    "my_list = [1, 2, 2, 3, 4, 4, 5]\n",
    "unique_list = list(set(my_list))\n",
    "print(unique_list)  "
   ]
  },
  {
   "cell_type": "markdown",
   "id": "4dbffb4a",
   "metadata": {},
   "source": [
    "**29-Given list values and keys list, convert these values to key value pairs in form of list of dictionaries. (Input : test_list = [“Gfg”, 3, “is”, 8], key_list = [“name”, “id”]\n",
    "Output : [{‘name’: ‘Gfg’, ‘id’: 3}, {‘name’: ‘is’, ‘id’: 8}])"
   ]
  },
  {
   "cell_type": "code",
   "execution_count": 22,
   "id": "7a01b363",
   "metadata": {},
   "outputs": [
    {
     "name": "stdout",
     "output_type": "stream",
     "text": [
      "Enter keys separated by spaces: 1 2 3\n",
      "Enter values separated by spaces: 1 2 3\n",
      "List of dictionaries: [{'1': '1'}, {'2': '2'}, {'3': '3'}]\n"
     ]
    }
   ],
   "source": [
    "def convert_to_list_of_dicts(keys, values):\n",
    "    return [{k: v} for k, v in zip(keys, values)]\n",
    "\n",
    "if __name__ == \"__main__\":\n",
    "    keys_list = input(\"Enter keys separated by spaces: \").split()\n",
    "    values_list = input(\"Enter values separated by spaces: \").split()\n",
    "\n",
    "    if len(keys_list) == len(values_list):\n",
    "        result_list = convert_to_list_of_dicts(keys_list, values_list)\n",
    "        print(\"List of dictionaries:\", result_list)\n",
    "    else:\n",
    "        print(\"The number of keys and values must be the same.\")"
   ]
  },
  {
   "cell_type": "markdown",
   "id": "19d3d0a0",
   "metadata": {},
   "source": [
    "**30-write a python program to count unique values inside a list using different ways"
   ]
  },
  {
   "cell_type": "code",
   "execution_count": 24,
   "id": "1a9e3c63",
   "metadata": {},
   "outputs": [
    {
     "name": "stdout",
     "output_type": "stream",
     "text": [
      "Enter elements of the list separated by spaces: 1 5 26 84 5 74\n",
      "Number of unique values in the list: 5\n"
     ]
    }
   ],
   "source": [
    "def count_unique_values_using_set(lst):\n",
    "    unique_values = set(lst)\n",
    "    return len(unique_values)\n",
    "\n",
    "if __name__ == \"__main__\":\n",
    "    input_list = input(\"Enter elements of the list separated by spaces: \").split()\n",
    "    unique_count = count_unique_values_using_set(input_list)\n",
    "    print(\"Number of unique values in the list:\", unique_count)"
   ]
  },
  {
   "cell_type": "markdown",
   "id": "a9ed8edc",
   "metadata": {},
   "source": [
    "**31-write a python program Extract all elements with Frequency greater than K (Input : test_list = [4, 6, 4, 3, 3, 4, 3, 4, 3, 8], K = 3 \n",
    "Output : [4, 3] )"
   ]
  },
  {
   "cell_type": "code",
   "execution_count": 25,
   "id": "df3cf60d",
   "metadata": {},
   "outputs": [
    {
     "name": "stdout",
     "output_type": "stream",
     "text": [
      "Enter elements of the list separated by spaces:  5  56  84 16  48\n",
      "Enter the frequency threshold (k): 20\n",
      "Elements with frequency greater than 20 : []\n"
     ]
    }
   ],
   "source": [
    "def extract_elements_with_frequency_greater_than_k(lst, k):\n",
    "    result = []\n",
    "    for element in lst:\n",
    "        if lst.count(element) > k:\n",
    "            result.append(element)\n",
    "    return result\n",
    "\n",
    "if __name__ == \"__main__\":\n",
    "    input_list = input(\"Enter elements of the list separated by spaces: \").split()\n",
    "    k = int(input(\"Enter the frequency threshold (k): \"))\n",
    "\n",
    "    try:\n",
    "        input_list = [int(element) for element in input_list]\n",
    "        result = extract_elements_with_frequency_greater_than_k(input_list, k)\n",
    "        print(\"Elements with frequency greater than\", k, \":\", result)\n",
    "    except ValueError:\n",
    "        print(\"Invalid input. Please enter a list of integers.\")\n"
   ]
  },
  {
   "cell_type": "markdown",
   "id": "04cad475",
   "metadata": {},
   "source": [
    "**32-write a python program to find the Strongest Neighbour (Input: 1 2 2 3 4 5\n",
    "Output: 2 2 3 4 5)"
   ]
  },
  {
   "cell_type": "code",
   "execution_count": null,
   "id": "4e919aa7",
   "metadata": {},
   "outputs": [],
   "source": [
    "def find_strongest_neighbours(lst):\n",
    "    strongest_neighbours = []\n",
    "    n = len(lst)\n",
    "\n",
    "    for i in range(n):\n",
    "        left_neighbour = lst[i - 1] if i > 0 else None\n",
    "        right_neighbour = lst[i + 1] if i < n - 1 else None\n",
    "\n",
    "        strongest_neighbour = max(left_neighbour, right_neighbour)\n",
    "        strongest_neighbours.append(strongest_neighbour)\n",
    "\n",
    "    return strongest_neighbours\n",
    "\n",
    "if __name__ == \"__main__\":\n",
    "    input_list = input(\"Enter elements of the list separated by spaces: \").split()\n",
    "    try:\n",
    "        input_list = [int(element) for element in input_list]\n",
    "        strongest_neighbours = find_strongest_neighbours(input_list)\n",
    "        print(\"Strongest Neighbours:\", strongest_neighbours)\n",
    "    except ValueError:\n",
    "        print(\"Invalid input. Please enter a list of integers.\")\n"
   ]
  },
  {
   "cell_type": "markdown",
   "id": "ebbdaf54",
   "metadata": {},
   "source": [
    "**33-write a Python Program to print all Possible Combinations from the three Digits (Input: [1, 2, 3]\n",
    "Output:\n",
    "1 2 3 ##\n",
    "1 3 2 ##\n",
    "2 1 3 ##\n",
    "2 3 1 ##\n",
    "3 1 2 ##\n",
    "3 2 1)"
   ]
  },
  {
   "cell_type": "code",
   "execution_count": 35,
   "id": "ed0dd8fd",
   "metadata": {},
   "outputs": [
    {
     "name": "stdout",
     "output_type": "stream",
     "text": [
      "All possible combinations from the three digits:\n",
      "111\n",
      "112\n",
      "121\n",
      "122\n",
      "211\n",
      "212\n",
      "221\n",
      "222\n"
     ]
    }
   ],
   "source": [
    "def print_all_combinations():\n",
    "    for digit1 in range(1, 3):\n",
    "        for digit2 in range(1, 3):\n",
    "            for digit3 in range(1, 3):\n",
    "                print(f\"{digit1}{digit2}{digit3}\")\n",
    "\n",
    "if __name__ == \"__main__\":\n",
    "    print(\"All possible combinations from the three digits:\")\n",
    "    print_all_combinations()\n"
   ]
  },
  {
   "cell_type": "markdown",
   "id": "522fcacd",
   "metadata": {},
   "source": [
    "**34-write a Python program to find all the Combinations in the list with the given condition (Input: test_list = [1,2,3] \n",
    "Output: \n",
    " [1], [1, 2], [1, 2, 3], [1, 3]\n",
    " [2], [2, 3], [3])"
   ]
  },
  {
   "cell_type": "code",
   "execution_count": 1,
   "id": "9d5ff5ed",
   "metadata": {
    "ExecuteTime": {
     "end_time": "2023-08-02T06:41:42.655448Z",
     "start_time": "2023-08-02T06:41:42.646050Z"
    }
   },
   "outputs": [
    {
     "name": "stdout",
     "output_type": "stream",
     "text": [
      "Combinations with sum greater than 6: [(2, 5), (3, 4), (3, 5), (4, 5), (1, 2, 4), (1, 2, 5), (1, 3, 4), (1, 3, 5), (1, 4, 5), (2, 3, 4), (2, 3, 5), (2, 4, 5), (3, 4, 5), (1, 2, 3, 4), (1, 2, 3, 5), (1, 2, 4, 5), (1, 3, 4, 5), (2, 3, 4, 5), (1, 2, 3, 4, 5)]\n"
     ]
    }
   ],
   "source": [
    "from itertools import combinations\n",
    "\n",
    "def find_combinations_with_condition(input_list, threshold):\n",
    "    return [combo for r in range(1, len(input_list) + 1)\n",
    "            for combo in combinations(input_list, r)\n",
    "            if sum(combo) > threshold]\n",
    "\n",
    "if __name__ == \"__main__\":\n",
    " \n",
    "    input_list = [1, 2, 3, 4, 5]\n",
    "    threshold = 6\n",
    "    result = find_combinations_with_condition(input_list, threshold)\n",
    "    print(\"Combinations with sum greater than {}: {}\".format(threshold, result))"
   ]
  },
  {
   "cell_type": "markdown",
   "id": "87d5af99",
   "metadata": {},
   "source": [
    "**35-write a Python program to get all unique combinations of two Lists (List_1 = [\"a\",\"b\"]\n",
    "List_2 = [1,2]\n",
    "Unique_combination = [[('a',1),('b',2)],[('a',2),('b',1)]] )"
   ]
  },
  {
   "cell_type": "code",
   "execution_count": 2,
   "id": "32ae518b",
   "metadata": {
    "ExecuteTime": {
     "end_time": "2023-08-02T06:43:33.383934Z",
     "start_time": "2023-08-02T06:43:33.379943Z"
    }
   },
   "outputs": [
    {
     "name": "stdout",
     "output_type": "stream",
     "text": [
      "Unique combinations: [(1, 'a'), (1, 'b'), (1, 'c'), (2, 'a'), (2, 'b'), (2, 'c'), (3, 'a'), (3, 'b'), (3, 'c')]\n"
     ]
    }
   ],
   "source": [
    "from itertools import product\n",
    "\n",
    "def get_unique_combinations(list1, list2):\n",
    "    return list(product(list1, list2))\n",
    "\n",
    "if __name__ == \"__main__\":\n",
    "   \n",
    "    list1 = [1, 2, 3]\n",
    "    list2 = ['a', 'b', 'c']\n",
    "    result = get_unique_combinations(list1, list2)\n",
    "    print(\"Unique combinations:\", result)"
   ]
  },
  {
   "cell_type": "markdown",
   "id": "b5f80e1c",
   "metadata": {},
   "source": [
    "**36-Remove all the occurrences of an element from a list in Python (Input : 1 1 2 3 4 5 1 2 1 \n",
    "\n",
    "**Output : 2 3 4 5 2)"
   ]
  },
  {
   "cell_type": "code",
   "execution_count": 3,
   "id": "3b180859",
   "metadata": {
    "ExecuteTime": {
     "end_time": "2023-08-02T06:44:34.504119Z",
     "start_time": "2023-08-02T06:44:34.499333Z"
    }
   },
   "outputs": [
    {
     "name": "stdout",
     "output_type": "stream",
     "text": [
      "List after removing 2 : [1, 3, 4, 5]\n"
     ]
    }
   ],
   "source": [
    "def remove_element_from_list(input_list, element_to_remove):\n",
    "    return [item for item in input_list if item != element_to_remove]\n",
    "\n",
    "if __name__ == \"__main__\":\n",
    "  \n",
    "    original_list = [1, 2, 3, 2, 4, 2, 5]\n",
    "    element = 2\n",
    "    result = remove_element_from_list(original_list, element)\n",
    "    print(\"List after removing\", element, \":\", result)"
   ]
  },
  {
   "cell_type": "markdown",
   "id": "76c0cf07",
   "metadata": {},
   "source": [
    "**37-write a python program to Replace index elements with elements in Other List (The original list 1 is : [‘Gfg’, ‘is’, ‘best’] The original list 2 is : [0, 1, 2, 1, 0, 0, 0, 2, 1, 1, 2, 0] The lists after index elements replacements is : [‘Gfg’, ‘is’, ‘best’, ‘is’, ‘Gfg’, ‘Gfg’, ‘Gfg’, ‘best’, ‘is’, ‘is’, ‘best’, ‘Gfg’])"
   ]
  },
  {
   "cell_type": "code",
   "execution_count": 4,
   "id": "6dcad230",
   "metadata": {
    "ExecuteTime": {
     "end_time": "2023-08-02T06:45:26.551865Z",
     "start_time": "2023-08-02T06:45:26.547236Z"
    }
   },
   "outputs": [
    {
     "name": "stdout",
     "output_type": "stream",
     "text": [
      "List after replacement: [1, 'b', 3, 'd', 5]\n"
     ]
    }
   ],
   "source": [
    "def replace_elements_with_other_list(main_list, replacement_list, indices_to_replace):\n",
    "    for index in indices_to_replace:\n",
    "        if 0 <= index < len(main_list):\n",
    "            main_list[index] = replacement_list[index]\n",
    "    return main_list\n",
    "\n",
    "if __name__ == \"__main__\":\n",
    "    \n",
    "    main_list = [1, 2, 3, 4, 5]\n",
    "    replacement_list = ['a', 'b', 'c', 'd', 'e']\n",
    "    indices = [1, 3]\n",
    "    \n",
    "    result = replace_elements_with_other_list(main_list, replacement_list, indices)\n",
    "    print(\"List after replacement:\", result)"
   ]
  },
  {
   "cell_type": "markdown",
   "id": "1ff1b9c1",
   "metadata": {},
   "source": [
    "**38- write python program to Retain records with N occurrences of K(Input : test_list = [(4, 5, 5, 4), (5, 4, 3)], K = 5, N = 2 \n",
    "Output : [(4, 5, 5, 4)]\n",
    "Input : test_list = [(4, 5, 5, 4), (5, 4, 3)], K = 5, N = 3 \n",
    "Output : [] )"
   ]
  },
  {
   "cell_type": "code",
   "execution_count": 9,
   "id": "0abf8cfb",
   "metadata": {
    "ExecuteTime": {
     "end_time": "2023-08-02T06:48:51.281654Z",
     "start_time": "2023-08-02T06:48:51.277512Z"
    }
   },
   "outputs": [
    {
     "name": "stdout",
     "output_type": "stream",
     "text": [
      "The original list is : [(4, 5, 6, 4, 4), (4, 4, 3), (4, 4, 4), (3, 4, 9)]\n",
      "Filtered tuples : [(4, 5, 6, 4, 4), (4, 4, 4)]\n"
     ]
    }
   ],
   "source": [
    "test_list = [(4, 5, 6, 4, 4), (4, 4, 3), (4, 4, 4), (3, 4, 9)]\n",
    "\n",
    "print(\"The original list is : \" + str(test_list))\n",
    "\n",
    "K = 4\n",
    "N = 3\n",
    "\n",
    "res = [ele for ele in test_list if ele.count(K) == N]\n",
    "\n",
    "print(\"Filtered tuples : \" + str(res))"
   ]
  },
  {
   "cell_type": "markdown",
   "id": "dc8b3c03",
   "metadata": {},
   "source": [
    "**39-write a Python Program to Sort the list according to the column using lambda\n",
    "array = [[1, 3, 3], [2, 1, 2], [3, 2, 1]]\n",
    "Output :\n",
    "Sorted array specific to column 0, [[1, 3, 3], [2, 1, 2], [3, 2, 1]]\n",
    "Sorted array specific to column 1, [[2, 1, 2], [3, 2, 1], [1, 3, 3]]\n",
    "Sorted array specific to column 2, [[3, 2, 1], [2, 1, 2], [1, 3, 3]]"
   ]
  },
  {
   "cell_type": "code",
   "execution_count": 10,
   "id": "d2e7b31f",
   "metadata": {
    "ExecuteTime": {
     "end_time": "2023-08-02T06:49:50.619956Z",
     "start_time": "2023-08-02T06:49:50.615606Z"
    }
   },
   "outputs": [
    {
     "name": "stdout",
     "output_type": "stream",
     "text": [
      "Sorted list by column 1 : [[6, 0, 1], [2, 4, 9], [3, 7, 2], [1, 8, 5]]\n"
     ]
    }
   ],
   "source": [
    "def sort_list_by_column(input_list, column_index):\n",
    "    sorted_list = sorted(input_list, key=lambda x: x[column_index])\n",
    "    return sorted_list\n",
    "\n",
    "if __name__ == \"__main__\":\n",
    "   \n",
    "    data = [\n",
    "        [3, 7, 2],\n",
    "        [1, 8, 5],\n",
    "        [2, 4, 9],\n",
    "        [6, 0, 1]\n",
    "    ]\n",
    "    column_to_sort = 1\n",
    "    \n",
    "    sorted_data = sort_list_by_column(data, column_to_sort)\n",
    "    \n",
    "    print(\"Sorted list by column\", column_to_sort, \":\", sorted_data)"
   ]
  },
  {
   "cell_type": "markdown",
   "id": "eed199e2",
   "metadata": {},
   "source": [
    "**40- write a program to Sort Python Dictionaries by Key or Value\n",
    "Input:\n",
    "{'ravi': 10, 'rajnish': 9, 'sanjeev': 15, 'yash': 2, 'suraj': 32}\n",
    "\n",
    "Output: \n",
    "{'rajnish': 9, 'ravi': 10, 'sanjeev': 15, 'suraj': 32, 'yash': 2}"
   ]
  },
  {
   "cell_type": "code",
   "execution_count": 1,
   "id": "249b9eaf",
   "metadata": {
    "ExecuteTime": {
     "end_time": "2023-08-02T06:53:00.279858Z",
     "start_time": "2023-08-02T06:53:00.270061Z"
    }
   },
   "outputs": [
    {
     "name": "stdout",
     "output_type": "stream",
     "text": [
      "{'rajnish': 9, 'ravi': 10, 'sanjeev': 15, 'suraj': 32, 'yash': 2}\n"
     ]
    }
   ],
   "source": [
    "myDict = {'ravi': 10, 'rajnish': 9,\n",
    "\t\t'sanjeev': 15, 'yash': 2, 'suraj': 32}\n",
    "\n",
    "myKeys = list(myDict.keys())\n",
    "myKeys.sort()\n",
    "sorted_dict = {i: myDict[i] for i in myKeys}\n",
    "\n",
    "print(sorted_dict)\n"
   ]
  },
  {
   "cell_type": "markdown",
   "id": "bf3001e7",
   "metadata": {},
   "source": [
    "**41-write python program to Remove keys with Values Greater than K ( Including mixed values )\n",
    "nput : test_dict = {‘Gfg’ : 3, ‘is’ : 7, ‘best’ : 10, ‘for’ : 6, ‘geeks’ : ‘CS’},\n",
    "K = 7 \n",
    "Output : {‘Gfg’ : 3, ‘for’ : 6, ‘geeks’ : ‘CS’}"
   ]
  },
  {
   "cell_type": "code",
   "execution_count": 2,
   "id": "92e483a5",
   "metadata": {
    "ExecuteTime": {
     "end_time": "2023-08-02T06:54:28.379776Z",
     "start_time": "2023-08-02T06:54:28.375366Z"
    }
   },
   "outputs": [
    {
     "name": "stdout",
     "output_type": "stream",
     "text": [
      "The original dictionary is : {'Gfg': 3, 'is': 7, 'best': 10, 'for': 6, 'geeks': 'CS'}\n",
      "The constructed dictionary : {'Gfg': 3, 'for': 6, 'geeks': 'CS'}\n"
     ]
    }
   ],
   "source": [
    "test_dict = {'Gfg' : 3, 'is' : 7, 'best' : 10, 'for' : 6, 'geeks' : 'CS'}\n",
    "\n",
    "print(\"The original dictionary is : \" + str(test_dict))\n",
    "\n",
    "K = 6\n",
    "res = {}\n",
    "for key in test_dict:\n",
    "\n",
    "    if not (isinstance(test_dict[key], int) and test_dict[key] > K):\n",
    "        res[key] = test_dict[key]\n",
    "\n",
    "print(\"The constructed dictionary : \" + str(res))"
   ]
  },
  {
   "cell_type": "markdown",
   "id": "31a04d34",
   "metadata": {},
   "source": [
    "**42-Write a Python program to concatenate the following dictionaries to create a new one\n",
    "\n",
    "Sample Dictionary :\n",
    "dic1={1:10, 2:20}\n",
    "dic2={3:30, 4:40}\n",
    "dic3={5:50,6:60}\n",
    "Expected Result : {1: 10, 2: 20, 3: 30, 4: 40, 5: 50, 6: 60}"
   ]
  },
  {
   "cell_type": "code",
   "execution_count": 3,
   "id": "404d917e",
   "metadata": {
    "ExecuteTime": {
     "end_time": "2023-08-02T06:55:18.800371Z",
     "start_time": "2023-08-02T06:55:18.796373Z"
    }
   },
   "outputs": [
    {
     "name": "stdout",
     "output_type": "stream",
     "text": [
      "Concatenated Dictionary: {'a': 1, 'b': 3, 'c': 4, 'd': 5}\n"
     ]
    }
   ],
   "source": [
    "def concatenate_dicts(*dicts):\n",
    "    result = {}\n",
    "    for d in dicts:\n",
    "        result.update(d)\n",
    "    return result\n",
    "\n",
    "if __name__ == \"__main__\":\n",
    "    dict1 = {'a': 1, 'b': 2}\n",
    "    dict2 = {'b': 3, 'c': 4}\n",
    "    dict3 = {'d': 5}\n",
    "    \n",
    "    concatenated_dict = concatenate_dicts(dict1, dict2, dict3)\n",
    "    print(\"Concatenated Dictionary:\", concatenated_dict)"
   ]
  },
  {
   "cell_type": "markdown",
   "id": "323e7988",
   "metadata": {},
   "source": [
    "**43-Write a Python program to iterate over dictionaries using for loops"
   ]
  },
  {
   "cell_type": "code",
   "execution_count": 5,
   "id": "0fd67458",
   "metadata": {
    "ExecuteTime": {
     "end_time": "2023-08-02T06:57:24.081085Z",
     "start_time": "2023-08-02T06:57:24.076909Z"
    }
   },
   "outputs": [
    {
     "name": "stdout",
     "output_type": "stream",
     "text": [
      "Iterating over key-value pairs:\n",
      "omar : 85\n",
      "ali : 92\n",
      "naif : 78\n",
      "mohamed : 95\n",
      "Eva : 88\n"
     ]
    }
   ],
   "source": [
    "if __name__ == \"__main__\":\n",
    "    student_scores = {\n",
    "        'omar': 85,\n",
    "        'ali': 92,\n",
    "        'naif': 78,\n",
    "        'mohamed': 95,\n",
    "        'Eva': 88\n",
    "    }\n",
    "    \n",
    "    print(\"Iterating over key-value pairs:\")\n",
    "    for name, score in student_scores.items():\n",
    "        print(name, \":\", score)"
   ]
  },
  {
   "cell_type": "markdown",
   "id": "a5fb95ca",
   "metadata": {},
   "source": [
    "**44- Write a Python script to merge two Python dictionaries"
   ]
  },
  {
   "cell_type": "code",
   "execution_count": 6,
   "id": "7348c96f",
   "metadata": {
    "ExecuteTime": {
     "end_time": "2023-08-02T06:58:32.139561Z",
     "start_time": "2023-08-02T06:58:32.135571Z"
    }
   },
   "outputs": [
    {
     "name": "stdout",
     "output_type": "stream",
     "text": [
      "Merged Dictionary: {'a': 1, 'b': 3, 'c': 4}\n"
     ]
    }
   ],
   "source": [
    "def merge_dicts(dict1, dict2):\n",
    "    merged_dict = {**dict1, **dict2}\n",
    "    return merged_dict\n",
    "\n",
    "if __name__ == \"__main__\":\n",
    "    dict1 = {'a': 1, 'b': 2}\n",
    "    dict2 = {'b': 3, 'c': 4}\n",
    "    \n",
    "    merged_dict = merge_dicts(dict1, dict2)\n",
    "    print(\"Merged Dictionary:\", merged_dict)"
   ]
  },
  {
   "cell_type": "markdown",
   "id": "216fc72d",
   "metadata": {},
   "source": [
    "**45-Write a Python program to get the maximum and minimum values of a dictionary values"
   ]
  },
  {
   "cell_type": "code",
   "execution_count": 7,
   "id": "d6883f5f",
   "metadata": {
    "ExecuteTime": {
     "end_time": "2023-08-02T06:59:28.457620Z",
     "start_time": "2023-08-02T06:59:28.453360Z"
    }
   },
   "outputs": [
    {
     "name": "stdout",
     "output_type": "stream",
     "text": [
      "Maximum score: 95\n",
      "Minimum score: 78\n"
     ]
    }
   ],
   "source": [
    "if __name__ == \"__main__\":\n",
    "    student_scores = {\n",
    "        'omar': 85,\n",
    "        'ali': 92,\n",
    "        'naif': 78,\n",
    "        'mohamed': 95,\n",
    "        'Eva': 88\n",
    "    }\n",
    "    \n",
    "    max_score = max(student_scores.values())\n",
    "    min_score = min(student_scores.values())\n",
    "    \n",
    "    print(\"Maximum score:\", max_score)\n",
    "    print(\"Minimum score:\", min_score)"
   ]
  },
  {
   "cell_type": "markdown",
   "id": "b6a53011",
   "metadata": {},
   "source": [
    "**46- Write a Python program to drop empty items from a given dictionary.\n",
    "Original Dictionary:\n",
    "{'c1': 'Red', 'c2': 'Green', 'c3': None}\n",
    "New Dictionary after dropping empty items:\n",
    "{'c1': 'Red', 'c2': 'Green'}"
   ]
  },
  {
   "cell_type": "code",
   "execution_count": 8,
   "id": "b5c6fecf",
   "metadata": {
    "ExecuteTime": {
     "end_time": "2023-08-02T06:59:54.347573Z",
     "start_time": "2023-08-02T06:59:54.343545Z"
    }
   },
   "outputs": [
    {
     "name": "stdout",
     "output_type": "stream",
     "text": [
      "New Dictionary after dropping empty items: {'c1': 'Red', 'c2': 'Green'}\n"
     ]
    }
   ],
   "source": [
    "def drop_empty_items(dictionary):\n",
    "    new_dict = {key: value for key, value in dictionary.items() if value is not None}\n",
    "    return new_dict\n",
    "\n",
    "if __name__ == \"__main__\":\n",
    "    original_dict = {'c1': 'Red', 'c2': 'Green', 'c3': None}\n",
    "    \n",
    "    new_dict = drop_empty_items(original_dict)\n",
    "    print(\"New Dictionary after dropping empty items:\", new_dict)"
   ]
  },
  {
   "cell_type": "markdown",
   "id": "46d718c7",
   "metadata": {},
   "source": [
    "**47-Write a Python program to create a tuple of numbers and print one item"
   ]
  },
  {
   "cell_type": "code",
   "execution_count": 9,
   "id": "13216ff5",
   "metadata": {
    "ExecuteTime": {
     "end_time": "2023-08-02T07:00:20.617703Z",
     "start_time": "2023-08-02T07:00:20.613934Z"
    }
   },
   "outputs": [
    {
     "name": "stdout",
     "output_type": "stream",
     "text": [
      "Item at index 2 : 3\n"
     ]
    }
   ],
   "source": [
    "if __name__ == \"__main__\":\n",
    "    numbers_tuple = (1, 2, 3, 4, 5)\n",
    "    \n",
    "    index_to_print = 2  \n",
    "    \n",
    "    if 0 <= index_to_print < len(numbers_tuple):\n",
    "        item_to_print = numbers_tuple[index_to_print]\n",
    "        print(\"Item at index\", index_to_print, \":\", item_to_print)\n",
    "    else:\n",
    "        print(\"Invalid index.\")"
   ]
  },
  {
   "cell_type": "markdown",
   "id": "2be5b56b",
   "metadata": {},
   "source": [
    "**48-Write a Python program to unpack a tuple into several variables"
   ]
  },
  {
   "cell_type": "code",
   "execution_count": 11,
   "id": "595f44be",
   "metadata": {
    "ExecuteTime": {
     "end_time": "2023-08-02T07:01:10.524283Z",
     "start_time": "2023-08-02T07:01:10.520943Z"
    }
   },
   "outputs": [
    {
     "name": "stdout",
     "output_type": "stream",
     "text": [
      "Name: omar\n",
      "Age: 20\n",
      "Gender: Male\n"
     ]
    }
   ],
   "source": [
    "if __name__ == \"__main__\":\n",
    "  \n",
    "    person_info = ('omar', 20, 'Male')\n",
    "    \n",
    "    name, age, gender = person_info\n",
    "    \n",
    "    print(\"Name:\", name)\n",
    "    print(\"Age:\", age)\n",
    "    print(\"Gender:\", gender)"
   ]
  },
  {
   "cell_type": "markdown",
   "id": "392388a7",
   "metadata": {},
   "source": [
    "**49-Write a Python program to add an item to a tuple"
   ]
  },
  {
   "cell_type": "code",
   "execution_count": 12,
   "id": "54cc092e",
   "metadata": {
    "ExecuteTime": {
     "end_time": "2023-08-02T07:01:37.750432Z",
     "start_time": "2023-08-02T07:01:37.745915Z"
    }
   },
   "outputs": [
    {
     "name": "stdout",
     "output_type": "stream",
     "text": [
      "Original Tuple: (1, 2, 3, 4, 5)\n",
      "New Tuple after adding item: (1, 2, 3, 4, 5, 6)\n"
     ]
    }
   ],
   "source": [
    "if __name__ == \"__main__\":\n",
    "    original_tuple = (1, 2, 3, 4, 5)\n",
    "    new_item = 6\n",
    "    \n",
    "    new_tuple = original_tuple + (new_item,)\n",
    "    \n",
    "    print(\"Original Tuple:\", original_tuple)\n",
    "    print(\"New Tuple after adding item:\", new_tuple)"
   ]
  },
  {
   "cell_type": "markdown",
   "id": "3e8fd124",
   "metadata": {},
   "source": [
    "**50-Write a Python program to convert a tuple to a string"
   ]
  },
  {
   "cell_type": "code",
   "execution_count": 13,
   "id": "92a71ddc",
   "metadata": {
    "ExecuteTime": {
     "end_time": "2023-08-02T07:02:05.542865Z",
     "start_time": "2023-08-02T07:02:05.538784Z"
    }
   },
   "outputs": [
    {
     "name": "stdout",
     "output_type": "stream",
     "text": [
      "Tuple converted to string: 1 2 3 4 5\n"
     ]
    }
   ],
   "source": [
    "def tuple_to_string(input_tuple):\n",
    "    result = ' '.join(map(str, input_tuple))\n",
    "    return result\n",
    "\n",
    "if __name__ == \"__main__\":\n",
    "    my_tuple = (1, 2, 3, 4, 5)\n",
    "    \n",
    "    converted_string = tuple_to_string(my_tuple)\n",
    "    print(\"Tuple converted to string:\", converted_string)"
   ]
  },
  {
   "cell_type": "markdown",
   "id": "f4f64ef4",
   "metadata": {},
   "source": [
    "**51-Write a Python program to convert a list to a tuple"
   ]
  },
  {
   "cell_type": "code",
   "execution_count": 14,
   "id": "210d56d3",
   "metadata": {
    "ExecuteTime": {
     "end_time": "2023-08-02T07:02:23.471681Z",
     "start_time": "2023-08-02T07:02:23.468079Z"
    }
   },
   "outputs": [
    {
     "name": "stdout",
     "output_type": "stream",
     "text": [
      "List converted to tuple: (1, 2, 3, 4, 5)\n"
     ]
    }
   ],
   "source": [
    "if __name__ == \"__main__\":\n",
    "    my_list = [1, 2, 3, 4, 5]\n",
    "    \n",
    "    converted_tuple = tuple(my_list)\n",
    "    print(\"List converted to tuple:\", converted_tuple)"
   ]
  },
  {
   "cell_type": "markdown",
   "id": "b1e00ef7",
   "metadata": {},
   "source": [
    "**52-Write a Python program to reverse a tuple"
   ]
  },
  {
   "cell_type": "code",
   "execution_count": 15,
   "id": "f45bfdc7",
   "metadata": {
    "ExecuteTime": {
     "end_time": "2023-08-02T07:02:40.209411Z",
     "start_time": "2023-08-02T07:02:40.206060Z"
    }
   },
   "outputs": [
    {
     "name": "stdout",
     "output_type": "stream",
     "text": [
      "Original Tuple: (1, 2, 3, 4, 5)\n",
      "Reversed Tuple: (5, 4, 3, 2, 1)\n"
     ]
    }
   ],
   "source": [
    "if __name__ == \"__main__\":\n",
    "    my_tuple = (1, 2, 3, 4, 5)\n",
    "    \n",
    "    reversed_tuple = my_tuple[::-1]\n",
    "    print(\"Original Tuple:\", my_tuple)\n",
    "    print(\"Reversed Tuple:\", reversed_tuple)"
   ]
  },
  {
   "cell_type": "markdown",
   "id": "3cd347d1",
   "metadata": {},
   "source": [
    "**53-Write a Python program to replace the last value of tuples in a list.\n",
    "Sample list: [(10, 20, 40), (40, 50, 60), (70, 80, 90)]\n",
    "Expected Output: [(10, 20, 100), (40, 50, 100), (70, 80, 100)]"
   ]
  },
  {
   "cell_type": "code",
   "execution_count": 16,
   "id": "3c4a2a4c",
   "metadata": {
    "ExecuteTime": {
     "end_time": "2023-08-02T07:03:10.305571Z",
     "start_time": "2023-08-02T07:03:10.300976Z"
    }
   },
   "outputs": [
    {
     "name": "stdout",
     "output_type": "stream",
     "text": [
      "Original List: [(1, 2, 3), (4, 5, 6), (7, 8, 9)]\n",
      "Updated List: [(1, 2, 0), (4, 5, 0), (7, 8, 0)]\n"
     ]
    }
   ],
   "source": [
    "def replace_last_value(tuple_list, new_value):\n",
    "    result = [(*t[:-1], new_value) for t in tuple_list]\n",
    "    return result\n",
    "\n",
    "if __name__ == \"__main__\":\n",
    "    sample_list = [(1, 2, 3), (4, 5, 6), (7, 8, 9)]\n",
    "    new_value = 0\n",
    "    \n",
    "    updated_list = replace_last_value(sample_list, new_value)\n",
    "    print(\"Original List:\", sample_list)\n",
    "    print(\"Updated List:\", updated_list)"
   ]
  },
  {
   "cell_type": "markdown",
   "id": "76bb7b39",
   "metadata": {},
   "source": [
    "**54-Write a Python program to convert a given string list to a tuple\n",
    "Original string: python 3.0\n",
    "<class 'str'>\n",
    "Convert the said string to a tuple:\n",
    "('p', 'y', 't', 'h', 'o', 'n', '3', '.', '0')"
   ]
  },
  {
   "cell_type": "code",
   "execution_count": 17,
   "id": "51951937",
   "metadata": {
    "ExecuteTime": {
     "end_time": "2023-08-02T07:03:38.976493Z",
     "start_time": "2023-08-02T07:03:38.972706Z"
    }
   },
   "outputs": [
    {
     "name": "stdout",
     "output_type": "stream",
     "text": [
      "Original List: ['apple', 'banana', 'cherry', 'date']\n",
      "Converted Tuple: ('apple', 'banana', 'cherry', 'date')\n"
     ]
    }
   ],
   "source": [
    "def list_to_tuple(input_list):\n",
    "    return tuple(input_list)\n",
    "\n",
    "if __name__ == \"__main__\":\n",
    "    original_list = [\"apple\", \"banana\", \"cherry\", \"date\"]\n",
    "    \n",
    "    converted_tuple = list_to_tuple(original_list)\n",
    "    print(\"Original List:\", original_list)\n",
    "    print(\"Converted Tuple:\", converted_tuple)"
   ]
  },
  {
   "cell_type": "markdown",
   "id": "5a1d5d97",
   "metadata": {},
   "source": [
    "**55-Write a Python program to calculate the average value of the numbers in a given tuple of tuples"
   ]
  },
  {
   "cell_type": "code",
   "execution_count": 18,
   "id": "834e7992",
   "metadata": {
    "ExecuteTime": {
     "end_time": "2023-08-02T07:04:15.419157Z",
     "start_time": "2023-08-02T07:04:15.414289Z"
    }
   },
   "outputs": [
    {
     "name": "stdout",
     "output_type": "stream",
     "text": [
      "Average: 5.0\n"
     ]
    }
   ],
   "source": [
    "def average_of_tuples(tuple_of_tuples):\n",
    "    total = sum(sum(inner_tuple) for inner_tuple in tuple_of_tuples)\n",
    "    count = sum(len(inner_tuple) for inner_tuple in tuple_of_tuples)\n",
    "    \n",
    "    if count == 0:\n",
    "        return None\n",
    "    else:\n",
    "        return total / count\n",
    "\n",
    "if __name__ == \"__main__\":\n",
    "    data = (\n",
    "        (1, 2, 3),\n",
    "        (4, 5, 6),\n",
    "        (7, 8, 9)\n",
    "    )\n",
    "    \n",
    "    average = average_of_tuples(data)\n",
    "    \n",
    "    if average is None:\n",
    "        print(\"No numbers to calculate average.\")\n",
    "    else:\n",
    "        print(\"Average:\", average)"
   ]
  },
  {
   "cell_type": "markdown",
   "id": "51edab9c",
   "metadata": {},
   "source": [
    "**56-Write a Python program to add member(s) to a set."
   ]
  },
  {
   "cell_type": "code",
   "execution_count": 19,
   "id": "2b65df79",
   "metadata": {
    "ExecuteTime": {
     "end_time": "2023-08-02T07:04:33.879348Z",
     "start_time": "2023-08-02T07:04:33.876030Z"
    }
   },
   "outputs": [
    {
     "name": "stdout",
     "output_type": "stream",
     "text": [
      "Set after adding members: {1, 2, 3, 4, 5, 6, 7}\n"
     ]
    }
   ],
   "source": [
    "if __name__ == \"__main__\":\n",
    "    my_set = {1, 2, 3, 4}\n",
    "    \n",
    "    new_member = 5\n",
    "    my_set.add(new_member)\n",
    "    \n",
    "    multiple_members = {6, 7}\n",
    "    my_set.update(multiple_members)\n",
    "    \n",
    "    print(\"Set after adding members:\", my_set)"
   ]
  },
  {
   "cell_type": "markdown",
   "id": "965590cc",
   "metadata": {},
   "source": [
    "**57-Write a Python program to remove an item from a set if it is present in the set."
   ]
  },
  {
   "cell_type": "code",
   "execution_count": 20,
   "id": "866bab28",
   "metadata": {
    "ExecuteTime": {
     "end_time": "2023-08-02T07:05:09.114166Z",
     "start_time": "2023-08-02T07:05:09.109179Z"
    }
   },
   "outputs": [
    {
     "name": "stdout",
     "output_type": "stream",
     "text": [
      "Set after removing item: {1, 2, 4, 5}\n"
     ]
    }
   ],
   "source": [
    "if __name__ == \"__main__\":\n",
    "    my_set = {1, 2, 3, 4, 5}\n",
    "    \n",
    "    item_to_remove = 3\n",
    "    if item_to_remove in my_set:\n",
    "        my_set.remove(item_to_remove)\n",
    "    \n",
    "    print(\"Set after removing item:\", my_set)"
   ]
  },
  {
   "cell_type": "markdown",
   "id": "2b7cfed1",
   "metadata": {},
   "source": [
    "**58-Write a Python program to create an intersection,union,difference and symmetric difference of sets"
   ]
  },
  {
   "cell_type": "code",
   "execution_count": 21,
   "id": "7f94b7fe",
   "metadata": {
    "ExecuteTime": {
     "end_time": "2023-08-02T07:05:48.428485Z",
     "start_time": "2023-08-02T07:05:48.424664Z"
    }
   },
   "outputs": [
    {
     "name": "stdout",
     "output_type": "stream",
     "text": [
      "Intersection: {3, 4, 5}\n",
      "Union: {1, 2, 3, 4, 5, 6, 7}\n",
      "Difference (set1 - set2): {1, 2}\n",
      "Symmetric Difference: {1, 2, 6, 7}\n"
     ]
    }
   ],
   "source": [
    "if __name__ == \"__main__\":\n",
    "    set1 = {1, 2, 3, 4, 5}\n",
    "    set2 = {3, 4, 5, 6, 7}\n",
    "    \n",
    "    intersection = set1 & set2\n",
    "    union = set1 | set2\n",
    "    difference = set1 - set2\n",
    "    symmetric_difference = set1 ^ set2\n",
    "    \n",
    "    print(\"Intersection:\", intersection)\n",
    "    print(\"Union:\", union)\n",
    "    print(\"Difference (set1 - set2):\", difference)\n",
    "    print(\"Symmetric Difference:\", symmetric_difference)"
   ]
  },
  {
   "cell_type": "markdown",
   "id": "b94931e2",
   "metadata": {},
   "source": [
    "**59-Write a Python program to find the maximum and minimum values in a set"
   ]
  },
  {
   "cell_type": "code",
   "execution_count": 22,
   "id": "203f9600",
   "metadata": {
    "ExecuteTime": {
     "end_time": "2023-08-02T07:06:15.038068Z",
     "start_time": "2023-08-02T07:06:15.034358Z"
    }
   },
   "outputs": [
    {
     "name": "stdout",
     "output_type": "stream",
     "text": [
      "Maximum value: 20\n",
      "Minimum value: 3\n"
     ]
    }
   ],
   "source": [
    "if __name__ == \"__main__\":\n",
    "    my_set = {10, 5, 20, 3, 8}\n",
    "    \n",
    "    max_value = max(my_set)\n",
    "    min_value = min(my_set)\n",
    "    \n",
    "    print(\"Maximum value:\", max_value)\n",
    "    print(\"Minimum value:\", min_value)"
   ]
  },
  {
   "cell_type": "markdown",
   "id": "255fd554",
   "metadata": {},
   "source": [
    "**60- Write a Python program that finds all pairs of elements in a list whose sum is equal to a given value."
   ]
  },
  {
   "cell_type": "code",
   "execution_count": 23,
   "id": "c2d94e1f",
   "metadata": {
    "ExecuteTime": {
     "end_time": "2023-08-02T07:06:37.538789Z",
     "start_time": "2023-08-02T07:06:37.534343Z"
    }
   },
   "outputs": [
    {
     "name": "stdout",
     "output_type": "stream",
     "text": [
      "Pairs with sum 10 : [(2, 8), (4, 6)]\n"
     ]
    }
   ],
   "source": [
    "def find_pairs_with_sum(input_list, target_sum):\n",
    "    pairs = []\n",
    "    \n",
    "    for i in range(len(input_list)):\n",
    "        for j in range(i + 1, len(input_list)):\n",
    "            if input_list[i] + input_list[j] == target_sum:\n",
    "                pairs.append((input_list[i], input_list[j]))\n",
    "    \n",
    "    return pairs\n",
    "\n",
    "if __name__ == \"__main__\":\n",
    "    numbers = [2, 4, 3, 6, 8, 5]\n",
    "    target = 10\n",
    "    \n",
    "    pairs = find_pairs_with_sum(numbers, target)\n",
    "    print(\"Pairs with sum\", target, \":\", pairs)"
   ]
  },
  {
   "cell_type": "code",
   "execution_count": null,
   "id": "97abe4da",
   "metadata": {},
   "outputs": [],
   "source": []
  }
 ],
 "metadata": {
  "kernelspec": {
   "display_name": "Python 3 (ipykernel)",
   "language": "python",
   "name": "python3"
  },
  "language_info": {
   "codemirror_mode": {
    "name": "ipython",
    "version": 3
   },
   "file_extension": ".py",
   "mimetype": "text/x-python",
   "name": "python",
   "nbconvert_exporter": "python",
   "pygments_lexer": "ipython3",
   "version": "3.11.3"
  }
 },
 "nbformat": 4,
 "nbformat_minor": 5
}
